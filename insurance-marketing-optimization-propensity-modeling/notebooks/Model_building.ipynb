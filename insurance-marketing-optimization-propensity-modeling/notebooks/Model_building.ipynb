{
 "cells": [
  {
   "cell_type": "markdown",
   "metadata": {},
   "source": [
    "# Model Building"
   ]
  },
  {
   "cell_type": "code",
   "execution_count": 16,
   "metadata": {},
   "outputs": [],
   "source": [
    "import numpy as np\n",
    "import pandas as pd\n",
    "import seaborn as sns  \n",
    "import missingno as msno\n",
    "import matplotlib.pyplot as plt\n",
    "%matplotlib inline\n",
    "from sklearn.model_selection import train_test_split\n",
    "from sklearn.ensemble import RandomForestClassifier\n",
    "from sklearn.svm import SVC\n",
    "from imblearn.combine import SMOTEENN\n",
    "from sklearn.ensemble import VotingClassifier\n",
    "from sklearn.metrics import accuracy_score, confusion_matrix, classification_report"
   ]
  },
  {
   "cell_type": "code",
   "execution_count": 17,
   "metadata": {},
   "outputs": [],
   "source": [
    "df = pd.read_excel('../data/processed/train_preprocessed.xlsx')"
   ]
  },
  {
   "cell_type": "code",
   "execution_count": 18,
   "metadata": {},
   "outputs": [],
   "source": [
    "X = df.drop(columns =['responded'])\n",
    "y = df['responded']"
   ]
  },
  {
   "cell_type": "code",
   "execution_count": 19,
   "metadata": {},
   "outputs": [],
   "source": [
    "X_train, X_test, y_train, y_test = train_test_split(X, y, test_size=0.2, random_state=42)"
   ]
  },
  {
   "cell_type": "code",
   "execution_count": 20,
   "metadata": {},
   "outputs": [],
   "source": [
    "y_train = y_train.values\n",
    "y_test = y_test.values"
   ]
  },
  {
   "cell_type": "markdown",
   "metadata": {},
   "source": [
    "## Balancing the dataset\n",
    "\n",
    "- It is essential to balance the highly imbalanced dataset. Here we are utilizing mixed sampling, specifically the SMOTE-ENN method, to address the highly imbalanced dataset. This approach combines oversampling (SMOTE) and undersampling (ENN) techniques, leveraging k-nearest neighbors to generate synthetic instances while avoiding the potential drawbacks of oversampling and undersampling individually."
   ]
  },
  {
   "cell_type": "code",
   "execution_count": 21,
   "metadata": {},
   "outputs": [],
   "source": [
    "smoteenn = SMOTEENN(random_state=42)\n",
    "X_train_mixsmapled, y_train_mixsmapled = smoteenn.fit_resample(X_train, y_train)"
   ]
  },
  {
   "cell_type": "markdown",
   "metadata": {},
   "source": [
    "## Initializing the Model\n",
    "- Given the imbalance in the dataset, solely emphasizing accuracy may result in missed opportunities, potentially leading to financial losses for the company. Therefore, while striving for an accuracy threshold of 85% as per project requirements, this analysis prioritizes maximizing the recall of the minority class (\"Yes\" responses) to ensure comprehensive identification of potential customers. To strike this balance, an ensemble approach is adopted, leveraging both Random Forest Classifier and Support Vector Machines. This strategy aims to optimize both accuracy and recall concurrently, thereby enhancing the effectiveness of the propensity model without compromising on its predictive performance."
   ]
  },
  {
   "cell_type": "code",
   "execution_count": 22,
   "metadata": {},
   "outputs": [],
   "source": [
    "rf_classifier = RandomForestClassifier(random_state=42)\n",
    "\n",
    "# Create a Linear Support Vector Machine (SVM) classifier\n",
    "svm_classifier = SVC(kernel='rbf', probability=True, random_state=42)\n",
    "\n",
    "# Ensemble the classifiers using a VotingClassifier\n",
    "ensemble_classifier = VotingClassifier(estimators=[\n",
    "    ('rf', rf_classifier),\n",
    "    ('svm', svm_classifier)\n",
    "], voting='hard')  # 'hard' for probability voting\n",
    "\n",
    "# Fit the ensemble model on the resampled training data\n",
    "ensemble_classifier.fit(X_train_mixsmapled, y_train_mixsmapled)\n",
    "\n",
    "# Make predictions on the test set\n",
    "y_pred = ensemble_classifier.predict(X_test)\n"
   ]
  },
  {
   "cell_type": "markdown",
   "metadata": {},
   "source": [
    "### Evaluating the Model (Before Hyperparameter Tuning)"
   ]
  },
  {
   "cell_type": "code",
   "execution_count": 23,
   "metadata": {},
   "outputs": [
    {
     "name": "stdout",
     "output_type": "stream",
     "text": [
      "Accuracy: 0.86\n",
      "classification_report:\n",
      "              precision    recall  f1-score   support\n",
      "\n",
      "          no       0.93      0.90      0.92      1077\n",
      "         yes       0.41      0.52      0.46       142\n",
      "\n",
      "    accuracy                           0.86      1219\n",
      "   macro avg       0.67      0.71      0.69      1219\n",
      "weighted avg       0.87      0.86      0.87      1219\n",
      "\n",
      "Confusion Matrix:\n"
     ]
    },
    {
     "data": {
      "image/png": "[encoded data removed]",
      "text/plain": [
       "<Figure size 600x500 with 2 Axes>"
      ]
     },
     "metadata": {},
     "output_type": "display_data"
    }
   ],
   "source": [
    "# Evaluate the ensemble model\n",
    "accuracy = accuracy_score(y_test, y_pred)\n",
    "cr = classification_report(y_test, y_pred)\n",
    "cm = confusion_matrix(y_test, y_pred)\n",
    "print(f\"Accuracy: {accuracy:.2f}\")\n",
    "print(f\"classification_report:\\n{cr}\")\n",
    "\n",
    "#Visualising the Confusion Model\n",
    "print(\"Confusion Matrix:\")\n",
    "plt.figure(figsize=(6, 5))\n",
    "sns.heatmap(cm, annot=True, fmt='d', cmap='Blues', \n",
    "            xticklabels=['Not Canceled', 'Canceled'], \n",
    "            yticklabels=['Not Canceled', 'Canceled'])\n",
    "plt.xlabel('Predicted labels')\n",
    "plt.ylabel('True labels')\n",
    "plt.title('Confusion Matrix')\n",
    "plt.show()"
   ]
  },
  {
   "cell_type": "markdown",
   "metadata": {},
   "source": [
    "## Hyperparameter Tuning"
   ]
  },
  {
   "cell_type": "code",
   "execution_count": 24,
   "metadata": {},
   "outputs": [
    {
     "name": "stdout",
     "output_type": "stream",
     "text": [
      "RandomForestClassifier Parameters: {'max_depth': None, 'min_samples_leaf': 1, 'min_samples_split': 2, 'n_estimators': 100}\n"
     ]
    }
   ],
   "source": [
    "from sklearn.model_selection import GridSearchCV\n",
    "\n",
    "rf_param_grid = {\n",
    "    'n_estimators': [100, 200],\n",
    "    'max_depth': [None, 10, 20],\n",
    "    'min_samples_split': [2, 5, 10],\n",
    "    'min_samples_leaf': [1, 2, 4]\n",
    "}\n",
    "\n",
    "rf_grid_search = GridSearchCV(estimator=RandomForestClassifier(random_state=42),\n",
    "                              param_grid=rf_param_grid,\n",
    "                              scoring='accuracy',\n",
    "                              cv=5,\n",
    "                              n_jobs=-1)\n",
    "rf_grid_search.fit(X_train_mixsmapled, y_train_mixsmapled)\n",
    "\n",
    "# Get the best hyperparameters for each model\n",
    "best_rf_params = rf_grid_search.best_params_\n",
    "\n",
    "print(f\"RandomForestClassifier Parameters: {best_rf_params}\")"
   ]
  },
  {
   "cell_type": "code",
   "execution_count": 25,
   "metadata": {},
   "outputs": [],
   "source": [
    "rf_classifier.set_params(**best_rf_params)\n",
    "\n",
    "ensemble_classifier = VotingClassifier(estimators=[\n",
    "    ('rf', rf_classifier),\n",
    "    ('svm', svm_classifier)\n",
    "], voting='hard')  # 'hard' for probability voting\n",
    "\n",
    "ensemble_classifier.fit(X_train_mixsmapled, y_train_mixsmapled)\n",
    "\n",
    "y_pred = ensemble_classifier.predict(X_test)"
   ]
  },
  {
   "cell_type": "markdown",
   "metadata": {},
   "source": [
    "## Model Evaluation"
   ]
  },
  {
   "cell_type": "code",
   "execution_count": 26,
   "metadata": {},
   "outputs": [
    {
     "name": "stdout",
     "output_type": "stream",
     "text": [
      "Accuracy: 0.86\n",
      "classification_report:\n",
      "              precision    recall  f1-score   support\n",
      "\n",
      "          no       0.93      0.90      0.92      1077\n",
      "         yes       0.41      0.52      0.46       142\n",
      "\n",
      "    accuracy                           0.86      1219\n",
      "   macro avg       0.67      0.71      0.69      1219\n",
      "weighted avg       0.87      0.86      0.87      1219\n",
      "\n",
      "Confusion Matrix:\n"
     ]
    },
    {
     "data": {
      "image/png": "[encoded data removed]",
      "text/plain": [
       "<Figure size 600x500 with 2 Axes>"
      ]
     },
     "metadata": {},
     "output_type": "display_data"
    }
   ],
   "source": [
    "# Evaluate the ensemble model\n",
    "accuracy = accuracy_score(y_test, y_pred)\n",
    "cr = classification_report(y_test, y_pred)\n",
    "cm = confusion_matrix(y_test, y_pred)\n",
    "print(f\"Accuracy: {accuracy:.2f}\")\n",
    "print(f\"classification_report:\\n{cr}\")\n",
    "\n",
    "#Visualising the Confusion Model\n",
    "print(\"Confusion Matrix:\")\n",
    "plt.figure(figsize=(6, 5))\n",
    "sns.heatmap(cm, annot=True, fmt='d', cmap='Blues', \n",
    "            xticklabels=['Not Canceled', 'Canceled'], \n",
    "            yticklabels=['Not Canceled', 'Canceled'])\n",
    "plt.xlabel('Predicted labels')\n",
    "plt.ylabel('True labels')\n",
    "plt.title('Confusion Matrix')\n",
    "plt.savefig('../visuals/model_evaluation_confusion_matrix.png', bbox_inches='tight', dpi=300) \n",
    "plt.show()"
   ]
  },
  {
   "cell_type": "markdown",
   "metadata": {},
   "source": [
    "### Prediciting the target for the 'test' dataset with the created Model "
   ]
  },
  {
   "cell_type": "code",
   "execution_count": 28,
   "metadata": {},
   "outputs": [],
   "source": [
    "import sys\n",
    "sys.path.append('../pipeline')  \n",
    "from preprocess import preprocess_pipeline  \n",
    "\n",
    "test_df = pd.read_excel('../data/raw/test.xlsx')"
   ]
  },
  {
   "cell_type": "code",
   "execution_count": 32,
   "metadata": {},
   "outputs": [
    {
     "name": "stderr",
     "output_type": "stream",
     "text": [
      "d:\\Projects\\basic-ml-projects\\insurance-marketing-optimisation-propensity-model\\notebooks\\../pipeline\\preprocess.py:142: SettingWithCopyWarning: \n",
      "A value is trying to be set on a copy of a slice from a DataFrame.\n",
      "Try using .loc[row_indexer,col_indexer] = value instead\n",
      "\n",
      "See the caveats in the documentation: https://pandas.pydata.org/pandas-docs/stable/user_guide/indexing.html#returning-a-view-versus-a-copy\n",
      "  df[\"pdays\"] = np.select(\n",
      "d:\\Projects\\basic-ml-projects\\insurance-marketing-optimisation-propensity-model\\notebooks\\../pipeline\\preprocess.py:148: SettingWithCopyWarning: \n",
      "A value is trying to be set on a copy of a slice from a DataFrame.\n",
      "Try using .loc[row_indexer,col_indexer] = value instead\n",
      "\n",
      "See the caveats in the documentation: https://pandas.pydata.org/pandas-docs/stable/user_guide/indexing.html#returning-a-view-versus-a-copy\n",
      "  df[\"pmonths\"] = np.select(\n"
     ]
    },
    {
     "data": {
      "text/plain": [
       "array(['no', 'yes', 'no', ..., 'no', 'no', 'no'], dtype=object)"
      ]
     },
     "execution_count": 32,
     "metadata": {},
     "output_type": "execute_result"
    }
   ],
   "source": [
    "import joblib\n",
    "test_df['id'] = 1\n",
    "test_df_encoded = preprocess_pipeline(test_df)\n",
    "\n",
    "model = joblib.load('../models/ensemble_classifier_model.pkl')\n",
    "\n",
    "y_pred = model.predict(test_df_encoded)\n",
    "y_pred"
   ]
  },
  {
   "cell_type": "code",
   "execution_count": 40,
   "metadata": {},
   "outputs": [
    {
     "name": "stdout",
     "output_type": "stream",
     "text": [
      "{'no': 31398, 'yes': 821}\n"
     ]
    }
   ],
   "source": [
    "unique_values, counts = np.unique(y_pred, return_counts=True)\n",
    "\n",
    "# Combine unique values and counts into a dictionary\n",
    "value_counts = dict(zip(unique_values, counts))\n",
    "\n",
    "print(value_counts)"
   ]
  },
  {
   "cell_type": "code",
   "execution_count": 46,
   "metadata": {},
   "outputs": [],
   "source": [
    "test_df_encoded['responded_predicted'] = y_pred\n",
    "# Save the modified DataFrame back to a new CSV file\n",
    "test_df_encoded.to_csv('../data/processed/testingCandidate.csv', index=False)"
   ]
  }
 ],
 "metadata": {
  "kernelspec": {
   "display_name": "Python 3",
   "language": "python",
   "name": "python3"
  },
  "language_info": {
   "codemirror_mode": {
    "name": "ipython",
    "version": 3
   },
   "file_extension": ".py",
   "mimetype": "text/x-python",
   "name": "python",
   "nbconvert_exporter": "python",
   "pygments_lexer": "ipython3",
   "version": "3.12.1"
  }
 },
 "nbformat": 4,
 "nbformat_minor": 2
}
